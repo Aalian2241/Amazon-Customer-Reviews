{
 "cells": [
  {
   "cell_type": "code",
   "execution_count": 1,
   "metadata": {},
   "outputs": [],
   "source": [
    "import pandas as pd\n",
    "import re\n",
    "import nltk\n",
    "from nltk.corpus import stopwords"
   ]
  },
  {
   "cell_type": "code",
   "execution_count": 22,
   "metadata": {},
   "outputs": [],
   "source": [
    "import pandas as pd\n",
    "\n",
    "# Define the path of the file\n",
    "file_path = \"train.ft.txt\"\n",
    "\n",
    "# Open the file\n",
    "with open(file_path, \"r\", encoding=\"utf8\") as f:\n",
    "    lines = f.readlines()\n",
    "\n",
    "# Split the lines into label and text columns\n",
    "lines = [line.strip().split(\" \", 1) for line in lines]\n",
    "\n",
    "# Create a pandas dataframe from the lines\n",
    "data = pd.DataFrame(lines, columns=[\"label\", \"text\"])\n",
    "\n",
    "# Save the dataframe to a CSV file\n",
    "data.to_csv(\"train.csv\", index=False)\n"
   ]
  },
  {
   "cell_type": "code",
   "execution_count": 28,
   "metadata": {},
   "outputs": [
    {
     "name": "stdout",
     "output_type": "stream",
     "text": [
      "0          Stuning even for the non-gamer: This sound tra...\n",
      "1          The best soundtrack ever to anything.: I'm rea...\n",
      "2          Amazing!: This soundtrack is my favorite music...\n",
      "3          Excellent Soundtrack: I truly like this soundt...\n",
      "4          Remember, Pull Your Jaw Off The Floor After He...\n",
      "                                 ...                        \n",
      "3599995    Don't do it!!: The high chair looks great when...\n",
      "3599996    Looks nice, low functionality: I have used thi...\n",
      "3599997    compact, but hard to clean: We have a small ho...\n",
      "3599998    what is it saying?: not sure what this book is...\n",
      "3599999    Makes My Blood Run Red-White-And-Blue: I agree...\n",
      "Name: text, Length: 3600000, dtype: object\n"
     ]
    }
   ],
   "source": [
    "# Print the first 5 rows of the dataframe\n",
    "first_element = data['text']\n",
    "print(first_element)"
   ]
  },
  {
   "cell_type": "code",
   "execution_count": 29,
   "metadata": {},
   "outputs": [],
   "source": [
    "from sklearn.linear_model import LogisticRegression\n",
    "from sklearn.feature_extraction.text import TfidfVectorizer\n",
    "from sklearn.metrics import accuracy_score\n",
    "\n",
    "# Define the training data\n",
    "X_train = data[\"text\"]\n",
    "y_train = data[\"label\"]\n",
    "\n",
    "# Define the vectorizer\n",
    "vectorizer = TfidfVectorizer()\n",
    "\n",
    "# Fit the vectorizer on the training data\n",
    "X_train_vect = vectorizer.fit_transform(X_train)\n",
    "\n"
   ]
  },
  {
   "cell_type": "code",
   "execution_count": 30,
   "metadata": {},
   "outputs": [
    {
     "name": "stderr",
     "output_type": "stream",
     "text": [
      "c:\\Users\\Aalian\\AppData\\Local\\Programs\\Python\\Python311\\Lib\\site-packages\\sklearn\\linear_model\\_logistic.py:458: ConvergenceWarning: lbfgs failed to converge (status=1):\n",
      "STOP: TOTAL NO. of ITERATIONS REACHED LIMIT.\n",
      "\n",
      "Increase the number of iterations (max_iter) or scale the data as shown in:\n",
      "    https://scikit-learn.org/stable/modules/preprocessing.html\n",
      "Please also refer to the documentation for alternative solver options:\n",
      "    https://scikit-learn.org/stable/modules/linear_model.html#logistic-regression\n",
      "  n_iter_i = _check_optimize_result(\n"
     ]
    },
    {
     "name": "stdout",
     "output_type": "stream",
     "text": [
      "Training accuracy: 0.9161380555555556\n"
     ]
    }
   ],
   "source": [
    "\n",
    "# Train the logistic regression model\n",
    "lr = LogisticRegression()\n",
    "lr.fit(X_train_vect, y_train)\n",
    "\n",
    "# Evaluate the accuracy of the model on the training data\n",
    "y_train_pred = lr.predict(X_train_vect)\n",
    "train_acc = accuracy_score(y_train, y_train_pred)\n",
    "print(\"Training accuracy:\", train_acc)"
   ]
  },
  {
   "cell_type": "code",
   "execution_count": 31,
   "metadata": {},
   "outputs": [],
   "source": [
    "import pickle\n",
    "\n",
    "# Save the trained model to disk\n",
    "filename = 'logistic_regression_model_tfidf.sav'\n",
    "pickle.dump(lr, open(filename, 'wb'))"
   ]
  },
  {
   "cell_type": "code",
   "execution_count": 32,
   "metadata": {},
   "outputs": [],
   "source": [
    "# Load the saved model from disk\n",
    "loaded_model = pickle.load(open(filename, 'rb'))\n",
    "new_text =\"Batteries died within a year ...: I bought this charger in Jul 2003 and it worked OK for a while. The design is nice and convenient. However, after about a year, the batteries would not hold a charge. Might as well just get alkaline disposables, or look elsewhere for a charger that comes with batteries that have better staying power.\"\n"
   ]
  },
  {
   "cell_type": "code",
   "execution_count": 33,
   "metadata": {},
   "outputs": [
    {
     "name": "stdout",
     "output_type": "stream",
     "text": [
      "['__label__1']\n"
     ]
    }
   ],
   "source": [
    "import numpy as np\n",
    "\n",
    "# assume you have a trained model 'lr_model'\n",
    "# and a new text to predict its sentiment 'new_text'\n",
    "\n",
    "# vectorize the new text using the same vectorizer used during training\n",
    "new_text_vec = vectorizer.transform([new_text])\n",
    "\n",
    "# reshape the vector to be 2D\n",
    "new_text_vec = new_text_vec.reshape(1, -1)\n",
    "\n",
    "# predict the sentiment\n",
    "prediction = lr.predict(new_text_vec)\n",
    "\n",
    "print(prediction)\n"
   ]
  },
  {
   "cell_type": "code",
   "execution_count": 34,
   "metadata": {},
   "outputs": [
    {
     "name": "stdout",
     "output_type": "stream",
     "text": [
      "Precision: 0.9148641920059905\n",
      "Recall: 0.9176733333333333\n",
      "F1-score: 0.916266609569142\n"
     ]
    }
   ],
   "source": [
    "from sklearn.metrics import precision_score, recall_score,f1_score\n",
    "\n",
    "# Calculate the precision\n",
    "precision = precision_score(y_train, y_train_pred, pos_label=\"__label__2\")\n",
    "\n",
    "# Calculate the recall\n",
    "recall = recall_score(y_train, y_train_pred, pos_label=\"__label__2\")\n",
    "\n",
    "# Calculate the F1-score\n",
    "f1 = f1_score(y_train, y_train_pred, pos_label=\"__label__2\")\n",
    "\n",
    "# Print the evaluation metrics\n",
    "print(\"Precision:\", precision)\n",
    "print(\"Recall:\", recall)\n",
    "print(\"F1-score:\", f1) "
   ]
  }
 ],
 "metadata": {
  "kernelspec": {
   "display_name": "Python 3",
   "language": "python",
   "name": "python3"
  },
  "language_info": {
   "codemirror_mode": {
    "name": "ipython",
    "version": 3
   },
   "file_extension": ".py",
   "mimetype": "text/x-python",
   "name": "python",
   "nbconvert_exporter": "python",
   "pygments_lexer": "ipython3",
   "version": "3.11.2"
  },
  "orig_nbformat": 4,
  "vscode": {
   "interpreter": {
    "hash": "df032ac71882366a07df5455e79b11054859e8004ec03d806e3f100306824dc6"
   }
  }
 },
 "nbformat": 4,
 "nbformat_minor": 2
}
